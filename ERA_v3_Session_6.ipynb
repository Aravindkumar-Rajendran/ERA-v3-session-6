{
  "cells": [
    {
      "cell_type": "code",
      "execution_count": null,
      "metadata": {
        "id": "0m2JWFliFfKT"
      },
      "outputs": [],
      "source": [
        "from __future__ import print_function\n",
        "import torch\n",
        "import torch.nn as nn\n",
        "import torch.nn.functional as F\n",
        "import torch.optim as optim\n",
        "from torchvision import datasets, transforms"
      ]
    },
    {
      "cell_type": "code",
      "execution_count": null,
      "metadata": {
        "colab": {
          "base_uri": "https://localhost:8080/"
        },
        "id": "pFwzrNfZEDyJ",
        "outputId": "6f457234-2314-47a4-b66a-8a81c408ba86"
      },
      "outputs": [
        {
          "name": "stdout",
          "output_type": "stream",
          "text": [
            "Requirement already satisfied: torchsummary in /usr/local/lib/python3.10/dist-packages (1.5.1)\n"
          ]
        }
      ],
      "source": [
        "!pip install torchsummary\n",
        "from torchsummary import summary\n",
        "\n",
        "use_cuda = torch.cuda.is_available()\n",
        "device = torch.device(\"cuda\" if use_cuda else \"cpu\")"
      ]
    },
    {
      "cell_type": "code",
      "execution_count": null,
      "metadata": {
        "colab": {
          "base_uri": "https://localhost:8080/"
        },
        "id": "DqTWLaM5GHgH",
        "outputId": "a4753ef1-9787-41be-98cc-1a2f78ddbc84"
      },
      "outputs": [
        {
          "name": "stdout",
          "output_type": "stream",
          "text": [
            "Downloading http://yann.lecun.com/exdb/mnist/train-images-idx3-ubyte.gz\n",
            "Failed to download (trying next):\n",
            "HTTP Error 403: Forbidden\n",
            "\n",
            "Downloading https://ossci-datasets.s3.amazonaws.com/mnist/train-images-idx3-ubyte.gz\n",
            "Downloading https://ossci-datasets.s3.amazonaws.com/mnist/train-images-idx3-ubyte.gz to ../data/MNIST/raw/train-images-idx3-ubyte.gz\n"
          ]
        },
        {
          "name": "stderr",
          "output_type": "stream",
          "text": [
            "100%|██████████| 9.91M/9.91M [00:10<00:00, 906kB/s] \n"
          ]
        },
        {
          "name": "stdout",
          "output_type": "stream",
          "text": [
            "Extracting ../data/MNIST/raw/train-images-idx3-ubyte.gz to ../data/MNIST/raw\n",
            "\n",
            "Downloading http://yann.lecun.com/exdb/mnist/train-labels-idx1-ubyte.gz\n",
            "Failed to download (trying next):\n",
            "HTTP Error 403: Forbidden\n",
            "\n",
            "Downloading https://ossci-datasets.s3.amazonaws.com/mnist/train-labels-idx1-ubyte.gz\n",
            "Downloading https://ossci-datasets.s3.amazonaws.com/mnist/train-labels-idx1-ubyte.gz to ../data/MNIST/raw/train-labels-idx1-ubyte.gz\n"
          ]
        },
        {
          "name": "stderr",
          "output_type": "stream",
          "text": [
            "100%|██████████| 28.9k/28.9k [00:00<00:00, 133kB/s]\n"
          ]
        },
        {
          "name": "stdout",
          "output_type": "stream",
          "text": [
            "Extracting ../data/MNIST/raw/train-labels-idx1-ubyte.gz to ../data/MNIST/raw\n",
            "\n",
            "Downloading http://yann.lecun.com/exdb/mnist/t10k-images-idx3-ubyte.gz\n",
            "Failed to download (trying next):\n",
            "HTTP Error 403: Forbidden\n",
            "\n",
            "Downloading https://ossci-datasets.s3.amazonaws.com/mnist/t10k-images-idx3-ubyte.gz\n",
            "Downloading https://ossci-datasets.s3.amazonaws.com/mnist/t10k-images-idx3-ubyte.gz to ../data/MNIST/raw/t10k-images-idx3-ubyte.gz\n"
          ]
        },
        {
          "name": "stderr",
          "output_type": "stream",
          "text": [
            "100%|██████████| 1.65M/1.65M [00:01<00:00, 1.26MB/s]\n"
          ]
        },
        {
          "name": "stdout",
          "output_type": "stream",
          "text": [
            "Extracting ../data/MNIST/raw/t10k-images-idx3-ubyte.gz to ../data/MNIST/raw\n",
            "\n",
            "Downloading http://yann.lecun.com/exdb/mnist/t10k-labels-idx1-ubyte.gz\n",
            "Failed to download (trying next):\n",
            "HTTP Error 403: Forbidden\n",
            "\n",
            "Downloading https://ossci-datasets.s3.amazonaws.com/mnist/t10k-labels-idx1-ubyte.gz\n",
            "Downloading https://ossci-datasets.s3.amazonaws.com/mnist/t10k-labels-idx1-ubyte.gz to ../data/MNIST/raw/t10k-labels-idx1-ubyte.gz\n"
          ]
        },
        {
          "name": "stderr",
          "output_type": "stream",
          "text": [
            "100%|██████████| 4.54k/4.54k [00:00<00:00, 9.99MB/s]"
          ]
        },
        {
          "name": "stdout",
          "output_type": "stream",
          "text": [
            "Extracting ../data/MNIST/raw/t10k-labels-idx1-ubyte.gz to ../data/MNIST/raw\n",
            "\n"
          ]
        },
        {
          "name": "stderr",
          "output_type": "stream",
          "text": [
            "\n"
          ]
        }
      ],
      "source": [
        "torch.manual_seed(1)\n",
        "batch_size = 128\n",
        "\n",
        "kwargs = {'num_workers': 1, 'pin_memory': True} if use_cuda else {}\n",
        "\n",
        "# loading MNIST ttrain dataset\n",
        "train_loader = torch.utils.data.DataLoader(\n",
        "    datasets.MNIST(\n",
        "        '../data',\n",
        "        train=True,\n",
        "        download=True,\n",
        "        transform=transforms.Compose([\n",
        "            transforms.RandomRotation((-7.0, 7.0), fill=(1,)),\n",
        "            transforms.ToTensor(),\n",
        "            transforms.Normalize((0.1307,), (0.3081,)),\n",
        "        ])),\n",
        "    batch_size=batch_size,\n",
        "    shuffle=True,\n",
        "    **kwargs)\n",
        "\n",
        "\n",
        "# loading MNIST test dataset\n",
        "test_loader = torch.utils.data.DataLoader(\n",
        "    datasets.MNIST(\n",
        "        '../data',\n",
        "        train=False,\n",
        "        transform=transforms.Compose([\n",
        "            transforms.ToTensor(),\n",
        "            transforms.Normalize((0.1307,), (0.3081,))\n",
        "        ])),\n",
        "    batch_size=batch_size,\n",
        "    shuffle=True,\n",
        "    **kwargs)\n"
      ]
    },
    {
      "cell_type": "code",
      "execution_count": null,
      "metadata": {
        "colab": {
          "base_uri": "https://localhost:8080/"
        },
        "id": "BHK610pfSa4q",
        "outputId": "70114c68-e808-4749-970a-66ead5b4c4a5"
      },
      "outputs": [
        {
          "data": {
            "text/plain": [
              "torch.Size([128, 1, 28, 28])"
            ]
          },
          "execution_count": 5,
          "metadata": {},
          "output_type": "execute_result"
        }
      ],
      "source": [
        "# visualize the dataset\n",
        "examples = enumerate(test_loader)\n",
        "batch_idx, (example_data, example_targets) = next(examples)\n",
        "\n",
        "example_data.shape"
      ]
    },
    {
      "cell_type": "code",
      "execution_count": null,
      "metadata": {
        "colab": {
          "base_uri": "https://localhost:8080/",
          "height": 406
        },
        "id": "pWX9RhUTSk89",
        "outputId": "e2a50c86-41ee-45ac-bac0-a12a448d7257"
      },
      "outputs": [
        {
          "data": {
            "image/png": "[encoded data removed]",
            "text/plain": [
              "<Figure size 640x480 with 6 Axes>"
            ]
          },
          "metadata": {},
          "output_type": "display_data"
        }
      ],
      "source": [
        "# visualize the dataset and plotting in a graph\n",
        "import matplotlib.pyplot as plt\n",
        "\n",
        "fig = plt.figure()\n",
        "\n",
        "for i in range(6):\n",
        "  plt.subplot(2,3,i+1)\n",
        "  plt.imshow(example_data[i][0].numpy().squeeze(), cmap='gray_r', interpolation='none')\n",
        "  plt.title(\"Ground Truth: {}\".format(example_targets[i]))\n",
        "  plt.xticks([])\n",
        "  plt.yticks([])\n"
      ]
    },
    {
      "cell_type": "code",
      "execution_count": null,
      "metadata": {
        "id": "8fDefDhaFlwH"
      },
      "outputs": [],
      "source": [
        "from tqdm import tqdm\n",
        "\n",
        "def train(model, device, train_loader, optimizer, epoch):\n",
        "    model.train()\n",
        "    pbar = tqdm(train_loader)\n",
        "    correct = 0\n",
        "    processed = 0\n",
        "    for batch_idx, (data, target) in enumerate(pbar):\n",
        "        data, target = data.to(device), target.to(device)\n",
        "        optimizer.zero_grad()\n",
        "\n",
        "        y_pred = model(data)\n",
        "        loss = F.nll_loss(y_pred, target)\n",
        "        loss.backward()\n",
        "        optimizer.step()\n",
        "\n",
        "        pred = y_pred.argmax(dim=1, keepdim=True)  # get the index of the max log-probability\n",
        "        correct += pred.eq(target.view_as(pred)).sum().item()\n",
        "        processed += len(data)\n",
        "\n",
        "        pbar.set_description(desc= f'Loss={loss.item()} Batch_id={batch_idx} Accuracy={100*correct/processed:0.2f}')\n",
        "\n",
        "\n",
        "def test(model, device, test_loader):\n",
        "    model.eval()\n",
        "    test_loss = 0\n",
        "    correct = 0\n",
        "    with torch.no_grad():\n",
        "        for data, target in test_loader:\n",
        "            data, target = data.to(device), target.to(device)\n",
        "            output = model(data)\n",
        "            test_loss += F.nll_loss(output, target, reduction='sum').item()  # sum up batch loss\n",
        "            pred = output.argmax(dim=1, keepdim=True)  # get the index of the max log-probability\n",
        "            correct += pred.eq(target.view_as(pred)).sum().item()\n",
        "\n",
        "    test_loss /= len(test_loader.dataset)\n",
        "\n",
        "    print('\\nTest set: Average loss: {:.4f}, Accuracy: {}/{} ({:.0f}%)\\n'.format(\n",
        "        test_loss, correct, len(test_loader.dataset),\n",
        "        100. * correct / len(test_loader.dataset)))"
      ]
    },
    {
      "cell_type": "code",
      "execution_count": null,
      "metadata": {
        "id": "h_Cx9q2QFgM7"
      },
      "outputs": [],
      "source": [
        "import torch\n",
        "import torch.nn as nn\n",
        "import torch.nn.functional as F\n",
        "\n",
        "class MNISTNet(nn.Module):\n",
        "    def __init__(self):\n",
        "        super(MNISTNet, self).__init__()\n",
        "\n",
        "        # Convolutional layers\n",
        "        self.conv1 = nn.Conv2d(1, 16, 3, padding=0)\n",
        "        self.bnorm1 = nn.BatchNorm2d(16)\n",
        "        # 28 -> 26 x 26 x 8 | RF - 3\n",
        "\n",
        "        self.conv2 = nn.Conv2d(16, 32, 3, padding=0)\n",
        "        self.bnorm2 = nn.BatchNorm2d(32)\n",
        "        # 26 -> 24 x 24 x 16 | RF - 5\n",
        "\n",
        "        self.noconv1 = nn.Conv2d(32, 16, 1)\n",
        "        # 24 -> 24 x 24 x 16 | RF - 5\n",
        "\n",
        "        self.pool1 = nn.MaxPool2d(2, 2)\n",
        "        # 24 -> 12 x 12 x 16 | RF - 6\n",
        "\n",
        "        self.conv3 = nn.Conv2d(16, 16, 3, padding=0)\n",
        "        self.bnorm3 = nn.BatchNorm2d(16)\n",
        "        # 12 -> 10 x 10 x 16 | RF - 10\n",
        "\n",
        "        self.conv4 = nn.Conv2d(16, 16, 3, padding=0)\n",
        "        self.bnorm4 = nn.BatchNorm2d(16)\n",
        "        # 10 -> 8 x 8 x 16 | RF - 14\n",
        "\n",
        "        self.conv5 = nn.Conv2d(16, 16, 3, padding=0)\n",
        "        self.bnorm5 = nn.BatchNorm2d(16)\n",
        "        # 8 -> 6 x 6 x 16 | RF - 1\n",
        "\n",
        "        self.conv6 = nn.Conv2d(16, 16, 3, padding=0)\n",
        "        self.bnorm6 = nn.BatchNorm2d(16)\n",
        "        # 6 -> 4 x 4 x 32 | RF - 22\n",
        "\n",
        "        self.drop = nn.Dropout2d(0.1)\n",
        "\n",
        "        self.gap = nn.AvgPool2d(4)\n",
        "        # 4 x 4 x 32 -> 1 x 1 x 32 | RF - 28\n",
        "\n",
        "        self.noconv2 = nn.Conv2d(16, 10, 1)\n",
        "        # 1 x 1 x 32 -> 1 x 1 x 10 | RF - 28\n",
        "\n",
        "\n",
        "    def forward(self, x):\n",
        "        # Convolutional layers with ReLU and pooling\n",
        "        x = F.relu(self.conv1(x))\n",
        "        x = self.bnorm1(x)\n",
        "        x = self.drop(x)\n",
        "\n",
        "        x = F.relu(self.conv2(x))\n",
        "        x = self.bnorm2(x)\n",
        "        x = self.drop(x)\n",
        "\n",
        "        x = self.noconv1(x)\n",
        "\n",
        "        x = self.pool1(x)\n",
        "\n",
        "        x = F.relu(self.conv3(x))\n",
        "        x = self.bnorm3(x)\n",
        "        x = self.drop(x)\n",
        "\n",
        "        x = F.relu(self.conv4(x))\n",
        "        x = self.bnorm4(x)\n",
        "        x = self.drop(x)\n",
        "\n",
        "        x = F.relu(self.conv5(x))\n",
        "        x = self.bnorm5(x)\n",
        "        x = self.drop(x)\n",
        "\n",
        "        x = F.relu(self.conv6(x))\n",
        "        x = self.bnorm6(x)\n",
        "        x = self.drop(x)\n",
        "\n",
        "        x = self.gap(x)\n",
        "\n",
        "        x = self.noconv2(x)\n",
        "\n",
        "        x = x.view(-1, 10)\n",
        "\n",
        "        # Log softmax for the output\n",
        "        return F.log_softmax(x, dim=1)"
      ]
    },
    {
      "cell_type": "code",
      "execution_count": null,
      "metadata": {
        "colab": {
          "base_uri": "https://localhost:8080/"
        },
        "id": "sa1xVEgItZgd",
        "outputId": "8c929024-8491-4006-f6d4-8dc878eace31"
      },
      "outputs": [
        {
          "name": "stdout",
          "output_type": "stream",
          "text": [
            "----------------------------------------------------------------\n",
            "        Layer (type)               Output Shape         Param #\n",
            "================================================================\n",
            "            Conv2d-1           [-1, 16, 26, 26]             160\n",
            "       BatchNorm2d-2           [-1, 16, 26, 26]              32\n",
            "         Dropout2d-3           [-1, 16, 26, 26]               0\n",
            "            Conv2d-4           [-1, 32, 24, 24]           4,640\n",
            "       BatchNorm2d-5           [-1, 32, 24, 24]              64\n",
            "         Dropout2d-6           [-1, 32, 24, 24]               0\n",
            "            Conv2d-7           [-1, 16, 24, 24]             528\n",
            "         MaxPool2d-8           [-1, 16, 12, 12]               0\n",
            "            Conv2d-9           [-1, 16, 10, 10]           2,320\n",
            "      BatchNorm2d-10           [-1, 16, 10, 10]              32\n",
            "        Dropout2d-11           [-1, 16, 10, 10]               0\n",
            "           Conv2d-12             [-1, 16, 8, 8]           2,320\n",
            "      BatchNorm2d-13             [-1, 16, 8, 8]              32\n",
            "        Dropout2d-14             [-1, 16, 8, 8]               0\n",
            "           Conv2d-15             [-1, 16, 6, 6]           2,320\n",
            "      BatchNorm2d-16             [-1, 16, 6, 6]              32\n",
            "        Dropout2d-17             [-1, 16, 6, 6]               0\n",
            "           Conv2d-18             [-1, 16, 4, 4]           2,320\n",
            "      BatchNorm2d-19             [-1, 16, 4, 4]              32\n",
            "        Dropout2d-20             [-1, 16, 4, 4]               0\n",
            "        AvgPool2d-21             [-1, 16, 1, 1]               0\n",
            "           Conv2d-22             [-1, 10, 1, 1]             170\n",
            "================================================================\n",
            "Total params: 15,002\n",
            "Trainable params: 15,002\n",
            "Non-trainable params: 0\n",
            "----------------------------------------------------------------\n",
            "Input size (MB): 0.00\n",
            "Forward/backward pass size (MB): 0.84\n",
            "Params size (MB): 0.06\n",
            "Estimated Total Size (MB): 0.90\n",
            "----------------------------------------------------------------\n"
          ]
        }
      ],
      "source": [
        "model = MNISTNet().to(device)\n",
        "summary(model, input_size=(1, 28, 28))"
      ]
    },
    {
      "cell_type": "code",
      "execution_count": null,
      "metadata": {
        "colab": {
          "base_uri": "https://localhost:8080/"
        },
        "id": "MMWbLWO6FuHb",
        "outputId": "6bc8f8df-5a72-48ba-a604-f0c1618a03fc"
      },
      "outputs": [
        {
          "name": "stdout",
          "output_type": "stream",
          "text": [
            "Epoch: 1\n"
          ]
        },
        {
          "name": "stderr",
          "output_type": "stream",
          "text": [
            "Loss=0.16026796400547028 Batch_id=468 Accuracy=87.22: 100%|██████████| 469/469 [00:31<00:00, 15.08it/s]\n"
          ]
        },
        {
          "name": "stdout",
          "output_type": "stream",
          "text": [
            "\n",
            "Test set: Average loss: 0.0636, Accuracy: 9811/10000 (98%)\n",
            "\n",
            "Epoch: 2\n"
          ]
        },
        {
          "name": "stderr",
          "output_type": "stream",
          "text": [
            "Loss=0.19185452163219452 Batch_id=468 Accuracy=96.30: 100%|██████████| 469/469 [00:25<00:00, 18.12it/s]\n"
          ]
        },
        {
          "name": "stdout",
          "output_type": "stream",
          "text": [
            "\n",
            "Test set: Average loss: 0.0387, Accuracy: 9881/10000 (99%)\n",
            "\n",
            "Epoch: 3\n"
          ]
        },
        {
          "name": "stderr",
          "output_type": "stream",
          "text": [
            "Loss=0.16453133523464203 Batch_id=468 Accuracy=97.22: 100%|██████████| 469/469 [00:25<00:00, 18.69it/s]\n"
          ]
        },
        {
          "name": "stdout",
          "output_type": "stream",
          "text": [
            "\n",
            "Test set: Average loss: 0.0325, Accuracy: 9892/10000 (99%)\n",
            "\n",
            "Epoch: 4\n"
          ]
        },
        {
          "name": "stderr",
          "output_type": "stream",
          "text": [
            "Loss=0.05759792402386665 Batch_id=468 Accuracy=97.48: 100%|██████████| 469/469 [00:25<00:00, 18.60it/s]\n"
          ]
        },
        {
          "name": "stdout",
          "output_type": "stream",
          "text": [
            "\n",
            "Test set: Average loss: 0.0355, Accuracy: 9886/10000 (99%)\n",
            "\n",
            "Epoch: 5\n"
          ]
        },
        {
          "name": "stderr",
          "output_type": "stream",
          "text": [
            "Loss=0.0405111126601696 Batch_id=468 Accuracy=97.69: 100%|██████████| 469/469 [00:25<00:00, 18.50it/s]\n"
          ]
        },
        {
          "name": "stdout",
          "output_type": "stream",
          "text": [
            "\n",
            "Test set: Average loss: 0.0277, Accuracy: 9915/10000 (99%)\n",
            "\n",
            "Epoch: 6\n"
          ]
        },
        {
          "name": "stderr",
          "output_type": "stream",
          "text": [
            "Loss=0.05384082719683647 Batch_id=468 Accuracy=97.91: 100%|██████████| 469/469 [00:24<00:00, 18.85it/s]\n"
          ]
        },
        {
          "name": "stdout",
          "output_type": "stream",
          "text": [
            "\n",
            "Test set: Average loss: 0.0259, Accuracy: 9916/10000 (99%)\n",
            "\n",
            "Epoch: 7\n"
          ]
        },
        {
          "name": "stderr",
          "output_type": "stream",
          "text": [
            "Loss=0.06405875831842422 Batch_id=468 Accuracy=98.20: 100%|██████████| 469/469 [00:25<00:00, 18.65it/s]\n"
          ]
        },
        {
          "name": "stdout",
          "output_type": "stream",
          "text": [
            "\n",
            "Test set: Average loss: 0.0219, Accuracy: 9933/10000 (99%)\n",
            "\n",
            "Epoch: 8\n"
          ]
        },
        {
          "name": "stderr",
          "output_type": "stream",
          "text": [
            "Loss=0.07625047862529755 Batch_id=468 Accuracy=98.36: 100%|██████████| 469/469 [00:25<00:00, 18.46it/s]\n"
          ]
        },
        {
          "name": "stdout",
          "output_type": "stream",
          "text": [
            "\n",
            "Test set: Average loss: 0.0208, Accuracy: 9940/10000 (99%)\n",
            "\n",
            "Epoch: 9\n"
          ]
        },
        {
          "name": "stderr",
          "output_type": "stream",
          "text": [
            "Loss=0.01993304304778576 Batch_id=468 Accuracy=98.37: 100%|██████████| 469/469 [00:25<00:00, 18.63it/s]\n"
          ]
        },
        {
          "name": "stdout",
          "output_type": "stream",
          "text": [
            "\n",
            "Test set: Average loss: 0.0212, Accuracy: 9935/10000 (99%)\n",
            "\n",
            "Epoch: 10\n"
          ]
        },
        {
          "name": "stderr",
          "output_type": "stream",
          "text": [
            "Loss=0.0198714267462492 Batch_id=468 Accuracy=98.33: 100%|██████████| 469/469 [00:24<00:00, 18.80it/s]\n"
          ]
        },
        {
          "name": "stdout",
          "output_type": "stream",
          "text": [
            "\n",
            "Test set: Average loss: 0.0201, Accuracy: 9937/10000 (99%)\n",
            "\n",
            "Epoch: 11\n"
          ]
        },
        {
          "name": "stderr",
          "output_type": "stream",
          "text": [
            "Loss=0.07348383963108063 Batch_id=468 Accuracy=98.33: 100%|██████████| 469/469 [00:26<00:00, 17.78it/s]\n"
          ]
        },
        {
          "name": "stdout",
          "output_type": "stream",
          "text": [
            "\n",
            "Test set: Average loss: 0.0200, Accuracy: 9933/10000 (99%)\n",
            "\n",
            "Epoch: 12\n"
          ]
        },
        {
          "name": "stderr",
          "output_type": "stream",
          "text": [
            "Loss=0.021275749430060387 Batch_id=468 Accuracy=98.41: 100%|██████████| 469/469 [00:25<00:00, 18.58it/s]\n"
          ]
        },
        {
          "name": "stdout",
          "output_type": "stream",
          "text": [
            "\n",
            "Test set: Average loss: 0.0202, Accuracy: 9943/10000 (99%)\n",
            "\n",
            "Epoch: 13\n"
          ]
        },
        {
          "name": "stderr",
          "output_type": "stream",
          "text": [
            "Loss=0.09030702710151672 Batch_id=468 Accuracy=98.42: 100%|██████████| 469/469 [00:25<00:00, 18.64it/s]\n"
          ]
        },
        {
          "name": "stdout",
          "output_type": "stream",
          "text": [
            "\n",
            "Test set: Average loss: 0.0201, Accuracy: 9935/10000 (99%)\n",
            "\n",
            "Epoch: 14\n"
          ]
        },
        {
          "name": "stderr",
          "output_type": "stream",
          "text": [
            "Loss=0.026580343022942543 Batch_id=468 Accuracy=98.39: 100%|██████████| 469/469 [00:25<00:00, 18.28it/s]\n"
          ]
        },
        {
          "name": "stdout",
          "output_type": "stream",
          "text": [
            "\n",
            "Test set: Average loss: 0.0200, Accuracy: 9939/10000 (99%)\n",
            "\n",
            "Epoch: 15\n"
          ]
        },
        {
          "name": "stderr",
          "output_type": "stream",
          "text": [
            "Loss=0.06954443454742432 Batch_id=468 Accuracy=98.52: 100%|██████████| 469/469 [00:25<00:00, 18.39it/s]\n"
          ]
        },
        {
          "name": "stdout",
          "output_type": "stream",
          "text": [
            "\n",
            "Test set: Average loss: 0.0200, Accuracy: 9937/10000 (99%)\n",
            "\n",
            "Epoch: 16\n"
          ]
        },
        {
          "name": "stderr",
          "output_type": "stream",
          "text": [
            "Loss=0.039082158356904984 Batch_id=468 Accuracy=98.39: 100%|██████████| 469/469 [00:25<00:00, 18.31it/s]\n"
          ]
        },
        {
          "name": "stdout",
          "output_type": "stream",
          "text": [
            "\n",
            "Test set: Average loss: 0.0203, Accuracy: 9938/10000 (99%)\n",
            "\n",
            "Epoch: 17\n"
          ]
        },
        {
          "name": "stderr",
          "output_type": "stream",
          "text": [
            "Loss=0.03426459804177284 Batch_id=468 Accuracy=98.37: 100%|██████████| 469/469 [00:25<00:00, 18.67it/s]\n"
          ]
        },
        {
          "name": "stdout",
          "output_type": "stream",
          "text": [
            "\n",
            "Test set: Average loss: 0.0200, Accuracy: 9937/10000 (99%)\n",
            "\n",
            "Epoch: 18\n"
          ]
        },
        {
          "name": "stderr",
          "output_type": "stream",
          "text": [
            "Loss=0.09138645976781845 Batch_id=468 Accuracy=98.48: 100%|██████████| 469/469 [00:25<00:00, 18.66it/s]\n"
          ]
        },
        {
          "name": "stdout",
          "output_type": "stream",
          "text": [
            "\n",
            "Test set: Average loss: 0.0197, Accuracy: 9940/10000 (99%)\n",
            "\n",
            "Epoch: 19\n"
          ]
        },
        {
          "name": "stderr",
          "output_type": "stream",
          "text": [
            "Loss=0.03301598131656647 Batch_id=468 Accuracy=98.43: 100%|██████████| 469/469 [00:25<00:00, 18.55it/s]\n"
          ]
        },
        {
          "name": "stdout",
          "output_type": "stream",
          "text": [
            "\n",
            "Test set: Average loss: 0.0197, Accuracy: 9941/10000 (99%)\n",
            "\n"
          ]
        }
      ],
      "source": [
        "from torch.optim.lr_scheduler import StepLR\n",
        "\n",
        "model = MNISTNet().to(device)\n",
        "optimizer = optim.SGD(model.parameters(), lr=0.01, momentum=0.9)\n",
        "scheduler = StepLR(optimizer, step_size=6, gamma=0.1)\n",
        "\n",
        "for epoch in range(1, 20):\n",
        "    print(f\"Epoch: {epoch}\")\n",
        "    train(model, device, train_loader, optimizer, epoch)\n",
        "    scheduler.step()\n",
        "    test(model, device, test_loader)"
      ]
    }
  ],
  "metadata": {
    "accelerator": "GPU",
    "colab": {
      "gpuType": "T4",
      "provenance": []
    },
    "kernelspec": {
      "display_name": "Python 3",
      "name": "python3"
    }
  },
  "nbformat": 4,
  "nbformat_minor": 0
}
